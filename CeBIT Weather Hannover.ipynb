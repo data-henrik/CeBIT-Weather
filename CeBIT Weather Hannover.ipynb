{
 "cells": [
  {
   "cell_type": "markdown",
   "metadata": {},
   "source": [
    "# Cebit Weather Hannover\n",
    "\n",
    "Playing with visitor and weather data related to CeBIT in Hannover. The visitor data is based on the CeBIT entry on Wikipedia, the weather data is the historic data provided by Deutscher Wetterdienst (German Weather Service).\n",
    "\n",
    "In our notebook the code snippets will be hidden once the cells are run. We will set up a connection to a dashDB service that holds the data, load two data frames, print out the table schemas and some data, then generate (plot) some graphs with the visitor count by year, weather data, and visitor and weather information combined."
   ]
  },
  {
   "cell_type": "code",
   "execution_count": 96,
   "metadata": {
    "collapsed": false
   },
   "outputs": [
    {
     "data": {
      "text/html": [
       "<script>\n",
       "code_show=true; \n",
       "function code_toggle() {\n",
       " if (code_show){\n",
       " $('div.input').hide();\n",
       " } else {\n",
       " $('div.input').show();\n",
       " }\n",
       " code_show = !code_show\n",
       "} \n",
       "$( document ).ready(code_toggle);\n",
       "</script>\n",
       "The raw code for this IPython notebook is by default hidden for easier reading.\n",
       "To toggle on/off the raw code, click <a href=\"javascript:code_toggle()\">here</a>."
      ],
      "text/plain": [
       "<IPython.core.display.HTML object>"
      ]
     },
     "execution_count": 96,
     "metadata": {},
     "output_type": "execute_result"
    }
   ],
   "source": [
    "from IPython.display import HTML\n",
    "HTML('''<script>\n",
    "code_show=true; \n",
    "function code_toggle() {\n",
    " if (code_show){\n",
    " $('div.input').hide();\n",
    " } else {\n",
    " $('div.input').show();\n",
    " }\n",
    " code_show = !code_show\n",
    "} \n",
    "$( document ).ready(code_toggle);\n",
    "</script>\n",
    "The raw code for this IPython notebook is by default hidden for easier reading.\n",
    "To toggle on/off the raw code, click <a href=\"javascript:code_toggle()\">here</a>.''')"
   ]
  },
  {
   "cell_type": "markdown",
   "metadata": {},
   "source": [
    "## Setup connection and load data\n",
    "First we set up the environment by importing packages, provide credentials for the database access, then we are connecting to the database, load the data frames and print out some basic schema information for both tables."
   ]
  },
  {
   "cell_type": "code",
   "execution_count": 97,
   "metadata": {
    "collapsed": true
   },
   "outputs": [],
   "source": [
    "# import some required packages\n",
    "import requests, StringIO, pandas as pd, json, re"
   ]
  },
  {
   "cell_type": "code",
   "execution_count": 98,
   "metadata": {
    "collapsed": false
   },
   "outputs": [],
   "source": [
    "# credentials for our dashDB service - remove before posting :)\n",
    "credentials = {\n",
    "    'port': '50000',\n",
    "    'db': 'BLUDB',\n",
    "    'username': 'dashXXXXXX',\n",
    "    'jdbcurl': 'jdbc:db2://bluemixXXXX.bluforcloud.com:50000/BLUDB',\n",
    "    'password': 'secret'\n",
    "}"
   ]
  },
  {
   "cell_type": "code",
   "execution_count": 99,
   "metadata": {
    "collapsed": true
   },
   "outputs": [],
   "source": [
    "from pyspark.sql import SQLContext\n",
    "sqlContext = SQLContext(sc)"
   ]
  },
  {
   "cell_type": "code",
   "execution_count": 100,
   "metadata": {
    "collapsed": false
   },
   "outputs": [
    {
     "name": "stdout",
     "output_type": "stream",
     "text": [
      "Schema information for CeBIT Visitors:\n"
     ]
    },
    {
     "data": {
      "text/plain": [
       "StructType(List(StructField(YEAR,IntegerType,true),StructField(VISITORS1,IntegerType,true),StructField(RAIN,DoubleType,true),StructField(SUN,DoubleType,true),StructField(TMAX,DoubleType,true),StructField(TMIN,DoubleType,true)))"
      ]
     },
     "execution_count": 100,
     "metadata": {},
     "output_type": "execute_result"
    }
   ],
   "source": [
    "props = {}\n",
    "props['user'] = credentials['username']\n",
    "props['password'] = credentials['password']\n",
    "# A table can be just the two-part table identifier or a subquery as it could be placed into the FROM clause.\n",
    "# For our notebook we will use the subqueries to only load columns of interest and to aggregate data\n",
    "# already in dashDB/DB2.\n",
    "# This is how just a table could be loaded.\n",
    "# table = credentials_2['username'] + \".\" + \"CEBIT_VISITORS1\"\n",
    "\n",
    "# Two ugly queries...\n",
    "table=\"(select v.year,v.visitors1,cast(sum(w.precip_hieght) as float) as rain,cast(sum(w.sunshine_duration) as float) as sun,cast(max(w.temp_max) as float) as tmax,cast(min(w.temp_min) as float) as tmin from \"+credentials['username'] + \".\" + \"CEBIT_VISITORS as v,\"+credentials['username'] + \".WEATHER_HANNOVER w where v.year<2016 and w.mdate between v.begin and v.end group by v.year,v.visitors1)\"\n",
    "wtable=\"(select w.mdate,cast (w.sunshine_duration as float) as sun,cast(w.precip_hieght as float) as rain,cast(w.temp_max as float) as tmax,cast(w.temp_min as float) as tmin from \"+credentials['username'] + \".\" + \"CEBIT_VISITORS as v,\"+credentials['username'] + \".WEATHER_HANNOVER w where w.mdate between v.begin and v.end and v.year<2016 order by w.mdate asc)\"\n",
    "\n",
    "# Load and cache the data frames\n",
    "data_df = sqlContext.read.jdbc(credentials['jdbcurl'],table,properties=props)\n",
    "wdf=sqlContext.read.jdbc(credentials['jdbcurl'],wtable,properties=props)\n",
    "data_df.cache()\n",
    "wdf.cache()\n",
    "print \"Schema information for CeBIT Visitors:\"\n",
    "data_df.schema"
   ]
  },
  {
   "cell_type": "code",
   "execution_count": 101,
   "metadata": {
    "collapsed": false
   },
   "outputs": [
    {
     "name": "stdout",
     "output_type": "stream",
     "text": [
      "Schema information for Weather Hannover:\n"
     ]
    },
    {
     "data": {
      "text/plain": [
       "StructType(List(StructField(MDATE,DateType,true),StructField(SUN,DoubleType,true),StructField(RAIN,DoubleType,true),StructField(TMAX,DoubleType,true),StructField(TMIN,DoubleType,true)))"
      ]
     },
     "execution_count": 101,
     "metadata": {},
     "output_type": "execute_result"
    }
   ],
   "source": [
    "print \"Schema information for Weather Hannover:\"\n",
    "wdf.schema"
   ]
  },
  {
   "cell_type": "markdown",
   "metadata": {},
   "source": [
    "## See the Data\n",
    "Now that we have the data in memory, we can take a look at it. We have a combined weather/visitor table and the weather data alone. Here we print out few rows using the \"show()\" function.\n",
    "\n"
   ]
  },
  {
   "cell_type": "code",
   "execution_count": 102,
   "metadata": {
    "collapsed": false
   },
   "outputs": [
    {
     "name": "stdout",
     "output_type": "stream",
     "text": [
      "Data frames with annual aggregates for CeBIT\n",
      "+----+---------+----+------+----+----+\n",
      "|YEAR|VISITORS1|RAIN|   SUN|TMAX|TMIN|\n",
      "+----+---------+----+------+----+----+\n",
      "|2004|   489230|17.0|  16.4|15.8|-2.3|\n",
      "|2005|   474100|15.5|  26.1|18.3|-6.5|\n",
      "|2006|   434000| 8.0|  32.4| 9.2|-9.9|\n",
      "|2007|   479700|22.6|  23.8|12.8|-1.8|\n",
      "|2008|   495000| 0.4|  19.5|11.6|-3.8|\n",
      "|2009|   400000|13.3|  16.9|11.2|-0.4|\n",
      "|2010|   334000| 5.8|  25.0| 6.1|-7.1|\n",
      "|2011|   339000| 0.0|  29.4| 7.2|-6.3|\n",
      "|2012|   312000| 8.4|19.483|10.4|-0.6|\n",
      "|2013|   285000|13.1|19.534|15.3|-2.8|\n",
      "|2014|   208000| 1.9|  39.8|21.0|-2.7|\n",
      "|2015|   221000| 0.8| 40.05|15.7|-2.3|\n",
      "+----+---------+----+------+----+----+\n",
      "\n"
     ]
    }
   ],
   "source": [
    "print \"Data frames with annual aggregates for CeBIT\"\n",
    "data_df.show()"
   ]
  },
  {
   "cell_type": "code",
   "execution_count": 103,
   "metadata": {
    "collapsed": false
   },
   "outputs": [
    {
     "name": "stdout",
     "output_type": "stream",
     "text": [
      "Daily weather data for past CeBIT days\n",
      "+----------+----+----+----+----+\n",
      "|     MDATE| SUN|RAIN|TMAX|TMIN|\n",
      "+----------+----+----+----+----+\n",
      "|2004-03-18| 0.7| 0.0|15.8| 2.7|\n",
      "|2004-03-19| 3.2| 3.8|13.6| 7.9|\n",
      "|2004-03-20| 0.7| 7.6|14.6| 6.5|\n",
      "|2004-03-21| 3.2| 4.5|11.6| 4.9|\n",
      "|2004-03-22| 0.5| 1.1| 8.0| 3.3|\n",
      "|2004-03-23| 5.6| 0.0|10.2| 0.1|\n",
      "|2004-03-24| 2.5| 0.0| 7.5|-2.3|\n",
      "|2005-03-10|10.9| 0.0| 4.6|-6.5|\n",
      "|2005-03-11| 0.0| 8.7| 4.5| 1.2|\n",
      "|2005-03-12| 0.7| 3.3| 4.4| 0.7|\n",
      "|2005-03-13| 3.2| 1.3| 6.3| 0.4|\n",
      "|2005-03-14| 4.4| 0.0| 7.6| 1.1|\n",
      "|2005-03-15| 1.6| 0.0|11.9| 2.5|\n",
      "|2005-03-16| 5.3| 2.2|18.3|10.2|\n",
      "|2006-03-09| 0.0| 6.0| 0.9|-0.5|\n",
      "|2006-03-10| 2.1| 0.9| 9.2|-0.3|\n",
      "|2006-03-11| 0.4| 1.1| 0.4|-5.9|\n",
      "|2006-03-12| 7.8| 0.0|-0.4|-9.6|\n",
      "|2006-03-13| 9.5| 0.0| 0.4|-9.9|\n",
      "|2006-03-14| 9.6| 0.0| 0.9|-8.6|\n",
      "+----------+----+----+----+----+\n",
      "\n"
     ]
    }
   ],
   "source": [
    "print \"Daily weather data for past CeBIT days\"\n",
    "wdf.show()"
   ]
  },
  {
   "cell_type": "markdown",
   "metadata": {},
   "source": [
    "### Plot\n",
    "Now it is time to set up the plotting environment and plot out some graphs."
   ]
  },
  {
   "cell_type": "code",
   "execution_count": 104,
   "metadata": {
    "collapsed": true
   },
   "outputs": [],
   "source": [
    "%matplotlib inline "
   ]
  },
  {
   "cell_type": "code",
   "execution_count": 105,
   "metadata": {
    "collapsed": false
   },
   "outputs": [
    {
     "name": "stdout",
     "output_type": "stream",
     "text": [
      "CeBIT visitors by year:\n"
     ]
    },
    {
     "data": {
      "image/png": "[encoded data removed]",
      "text/plain": [
       "<matplotlib.figure.Figure at 0x7fad52935310>"
      ]
     },
     "metadata": {},
     "output_type": "display_data"
    }
   ],
   "source": [
    "print \"CeBIT visitors by year:\"\n",
    "vis=data_df.toPandas()\n",
    "ax = vis.plot(kind='bar', figsize=(8,5), x='YEAR', y='VISITORS1')\n",
    "ax.set_ylabel(\"Visitors\")\n",
    "ax.set_xlabel(\"Years\");"
   ]
  },
  {
   "cell_type": "code",
   "execution_count": 106,
   "metadata": {
    "collapsed": false
   },
   "outputs": [
    {
     "name": "stdout",
     "output_type": "stream",
     "text": [
      "Basic weather data for past CeBIT days\n"
     ]
    },
    {
     "data": {
      "text/plain": [
       "<matplotlib.text.Text at 0x7fad5217ec50>"
      ]
     },
     "execution_count": 106,
     "metadata": {},
     "output_type": "execute_result"
    },
    {
     "data": {
      "image/png": "[encoded data removed]",
      "text/plain": [
       "<matplotlib.figure.Figure at 0x7fad591d5890>"
      ]
     },
     "metadata": {},
     "output_type": "display_data"
    }
   ],
   "source": [
    "print \"Basic weather data for past CeBIT days\"\n",
    "wdf1=wdf.select(wdf['MDATE'],wdf['RAIN'],wdf['SUN'],wdf['TMAX'],wdf['TMIN'])\n",
    "vis2=wdf1.toPandas()\n",
    "ax2 = vis2.plot(kind='bar', figsize=(16,7), x='MDATE' )\n",
    "ax2.set_ylabel(\"CeBIT Weather\")\n",
    "ax2.set_xlabel(\"Year\")"
   ]
  },
  {
   "cell_type": "code",
   "execution_count": 107,
   "metadata": {
    "collapsed": false
   },
   "outputs": [
    {
     "name": "stdout",
     "output_type": "stream",
     "text": [
      "Our final plot shows the visitor and weather data in context - any relationship?\n"
     ]
    },
    {
     "data": {
      "text/plain": [
       "<matplotlib.text.Text at 0x7fad51cc4110>"
      ]
     },
     "execution_count": 107,
     "metadata": {},
     "output_type": "execute_result"
    },
    {
     "data": {
      "image/png": "[encoded data removed]",
      "text/plain": [
       "<matplotlib.figure.Figure at 0x7fad52ea3810>"
      ]
     },
     "metadata": {},
     "output_type": "display_data"
    }
   ],
   "source": [
    "print \"Our final plot shows the visitor and weather data in context - any relationship?\"\n",
    "df1=data_df.select(data_df['YEAR'],data_df['RAIN'],data_df['SUN'],data_df['TMAX'],data_df['TMIN'],data_df['VISITORS1']*.0001)\n",
    "vis1=df1.toPandas()\n",
    "ax = vis1.plot(kind='bar', figsize=(16,7), x='YEAR', legend=False )\n",
    "patches, labels = ax.get_legend_handles_labels()\n",
    "ax.legend(patches, ['rain','sun','Tmax','Tmin','visitors'], loc='best')\n",
    "ax.set_ylabel(\"CeBIT fun facts\")\n",
    "ax.set_xlabel(\"Year\")"
   ]
  },
  {
   "cell_type": "code",
   "execution_count": null,
   "metadata": {
    "collapsed": true
   },
   "outputs": [],
   "source": []
  }
 ],
 "metadata": {
  "kernelspec": {
   "display_name": "Python 2",
   "language": "python",
   "name": "python2"
  },
  "language_info": {
   "codemirror_mode": {
    "name": "ipython",
    "version": 2
   },
   "file_extension": ".py",
   "mimetype": "text/x-python",
   "name": "python",
   "nbconvert_exporter": "python",
   "pygments_lexer": "ipython2",
   "version": "2.7.9"
  }
 },
 "nbformat": 4,
 "nbformat_minor": 0
}
